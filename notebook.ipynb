{
 "cells": [
  {
   "cell_type": "markdown",
   "metadata": {},
   "source": [
    "# Proyek Analisis Data: proyek_akhir\n",
    "- Nama: Izzaddin Hendradi\n",
    "- Email: ihendradi18@gmail.com\n",
    "- Id Dicoding: 3363043"
   ]
  },
  {
   "cell_type": "markdown",
   "metadata": {},
   "source": [
    "## Menentukan Pertanyaan Bisnis"
   ]
  },
  {
   "attachments": {},
   "cell_type": "markdown",
   "metadata": {},
   "source": [
    "- Produk apa yang paling banyak dan paling sedikit terjual?\n",
    "- Kapan terakhir pelanggan melakukan transaksi?"
   ]
  },
  {
   "cell_type": "markdown",
   "metadata": {},
   "source": [
    "## Menyaipkan semua library yang dibuthkan"
   ]
  },
  {
   "cell_type": "markdown",
   "metadata": {},
   "source": [
    "https://github.com/IzzaMooN/DataScientist/blob/main/requirements.txt"
   ]
  },
  {
   "cell_type": "raw",
   "metadata": {},
   "source": [
    "altair                    5.1.2\n",
    "anyio                     4.0.0\n",
    "argon2-cffi               23.1.0\n",
    "argon2-cffi-bindings      21.2.0\n",
    "arrow                     1.3.0\n",
    "asttokens                 2.4.1\n",
    "async-lru                 2.0.4\n",
    "attrs                     23.1.0\n",
    "Babel                     2.13.1\n",
    "beautifulsoup4            4.12.2\n",
    "bleach                    6.1.0\n",
    "blinker                   1.7.0\n",
    "cachetools                5.3.2\n",
    "certifi                   2023.11.17\n",
    "cffi                      1.16.0\n",
    "charset-normalizer        3.3.2\n",
    "click                     8.1.7\n",
    "colorama                  0.4.6\n",
    "comm                      0.2.0\n",
    "contourpy                 1.2.0\n",
    "cycler                    0.12.1\n",
    "debugpy                   1.8.0\n",
    "decorator                 5.1.1\n",
    "defusedxml                0.7.1\n",
    "distlib                   0.3.7\n",
    "executing                 2.0.1\n",
    "fastjsonschema            2.19.0\n",
    "filelock                  3.13.1\n",
    "fonttools                 4.44.3\n",
    "fqdn                      1.5.1\n",
    "gitdb                     4.0.11\n",
    "GitPython                 3.1.40\n",
    "idna                      3.4\n",
    "importlib-metadata        6.8.0\n",
    "ipykernel                 6.26.0\n",
    "ipython                   8.17.2\n",
    "ipywidgets                8.1.1\n",
    "isoduration               20.11.0\n",
    "jedi                      0.19.1\n",
    "Jinja2                    3.1.2\n",
    "joblib                    1.3.2\n",
    "json5                     0.9.14\n",
    "jsonpointer               2.4\n",
    "jsonschema                4.20.0\n",
    "jsonschema-specifications 2023.11.1\n",
    "jupyter                   1.0.0\n",
    "jupyter_client            8.6.0\n",
    "jupyter-console           6.6.3\n",
    "jupyter_core              5.5.0\n",
    "jupyter-events            0.9.0\n",
    "jupyter-lsp               2.2.0\n",
    "jupyter_server            2.10.1\n",
    "jupyter_server_terminals  0.4.4\n",
    "jupyterlab                4.0.9\n",
    "jupyterlab-pygments       0.2.2\n",
    "jupyterlab_server         2.25.2\n",
    "jupyterlab-widgets        3.0.9\n",
    "Keras-Preprocessing       1.1.2\n",
    "kiwisolver                1.4.5\n",
    "markdown-it-py            3.0.0\n",
    "MarkupSafe                2.1.3\n",
    "matplotlib                3.8.2\n",
    "matplotlib-inline         0.1.6\n",
    "mdurl                     0.1.2\n",
    "mistune                   3.0.2\n",
    "nbclient                  0.9.0\n",
    "nbconvert                 7.11.0\n",
    "nbformat                  5.9.2\n",
    "nest-asyncio              1.5.8\n",
    "notebook                  7.0.6\n",
    "notebook_shim             0.2.3\n",
    "numpy                     1.26.2\n",
    "overrides                 7.4.0\n",
    "packaging                 23.2\n",
    "pandas                    2.1.3\n",
    "pandocfilters             1.5.0\n",
    "parso                     0.8.3\n",
    "Pillow                    10.1.0\n",
    "pip                       23.3.1\n",
    "pipenv                    2023.11.15\n",
    "platformdirs              3.11.0\n",
    "prometheus-client         0.18.0\n",
    "prompt-toolkit            3.0.41\n",
    "protobuf                  4.25.1\n",
    "psutil                    5.9.6\n",
    "pure-eval                 0.2.2\n",
    "pyarrow                   14.0.1\n",
    "pycparser                 2.21\n",
    "pydeck                    0.8.1b0\n",
    "Pygments                  2.17.1\n",
    "pyparsing                 3.1.1\n",
    "python-dateutil           2.8.2\n",
    "python-json-logger        2.0.7\n",
    "pytz                      2023.3.post1\n",
    "pywin32                   306\n",
    "pywinpty                  2.0.12\n",
    "PyYAML                    6.0.1\n",
    "pyzmq                     25.1.1\n",
    "qtconsole                 5.5.1\n",
    "QtPy                      2.4.1\n",
    "referencing               0.31.0\n",
    "requests                  2.31.0\n",
    "rfc3339-validator         0.1.4\n",
    "rfc3986-validator         0.1.1\n",
    "rich                      13.7.0\n",
    "rpds-py                   0.13.0\n",
    "scikit-learn              1.3.2\n",
    "scipy                     1.11.4\n",
    "seaborn                   0.13.0\n",
    "Send2Trash                1.8.2\n",
    "setuptools                68.2.2\n",
    "six                       1.16.0\n",
    "smmap                     5.0.1\n",
    "sniffio                   1.3.0\n",
    "soupsieve                 2.5\n",
    "spicy                     0.16.0\n",
    "stack-data                0.6.3\n",
    "streamlit                 1.28.2\n",
    "tenacity                  8.2.3\n",
    "terminado                 0.18.0\n",
    "threadpoolctl             3.2.0\n",
    "tinycss2                  1.2.1\n",
    "toml                      0.10.2\n",
    "toolz                     0.12.0\n",
    "tornado                   6.3.3\n",
    "traitlets                 5.13.0\n",
    "types-python-dateutil     2.8.19.14\n",
    "typing_extensions         4.8.0\n",
    "tzdata                    2023.3\n",
    "tzlocal                   5.2\n",
    "uri-template              1.3.0\n",
    "urllib3                   2.1.0\n",
    "validators                0.22.0\n",
    "virtualenv                20.24.6\n",
    "watchdog                  3.0.0\n",
    "wcwidth                   0.2.10\n",
    "webcolors                 1.13\n",
    "webencodings              0.5.1\n",
    "websocket-client          1.6.4\n",
    "wheel                     0.41.3\n",
    "widgetsnbextension        4.0.9\n",
    "zipp                      3.17.0"
   ]
  },
  {
   "attachments": {},
   "cell_type": "markdown",
   "metadata": {},
   "source": [
    "## Data Wrangling"
   ]
  },
  {
   "attachments": {},
   "cell_type": "markdown",
   "metadata": {},
   "source": [
    "### Gathering Data"
   ]
  },
  {
   "cell_type": "markdown",
   "metadata": {},
   "source": [
    "- memanggil semua data yang ada dari source menggunakan pandas (pd)\n",
    "- melakukan merge dibeberapa data"
   ]
  },
  {
   "attachments": {},
   "cell_type": "markdown",
   "metadata": {},
   "source": [
    "### Assessing Data"
   ]
  },
  {
   "cell_type": "markdown",
   "metadata": {},
   "source": [
    "- melakukan \"df.info()\"\n",
    "- melakukan cek duplikasi\n",
    "- melakukan cek isNaN\n",
    "- melakukan \"df.describe()\""
   ]
  },
  {
   "attachments": {},
   "cell_type": "markdown",
   "metadata": {},
   "source": [
    "### Cleaning Data"
   ]
  },
  {
   "cell_type": "markdown",
   "metadata": {},
   "source": [
    "- melakukan pengisian data NaN dengan code inplace\n",
    "- membersihkan duplikasi\n",
    "- memperbaiki tipe data dari object ke datetime"
   ]
  },
  {
   "attachments": {},
   "cell_type": "markdown",
   "metadata": {},
   "source": [
    "## Exploratory Data Analysis (EDA)"
   ]
  },
  {
   "attachments": {},
   "cell_type": "markdown",
   "metadata": {},
   "source": [
    "### Explore ..."
   ]
  },
  {
   "cell_type": "markdown",
   "metadata": {},
   "source": [
    "- menganalisa data berdasarkan pertanyaan yang ada\n",
    "- membuat pengelompokkan data"
   ]
  },
  {
   "attachments": {},
   "cell_type": "markdown",
   "metadata": {},
   "source": [
    "## Visualization & Explanatory Analysis"
   ]
  },
  {
   "attachments": {},
   "cell_type": "markdown",
   "metadata": {},
   "source": [
    "### Pertanyaan 1: "
   ]
  },
  {
   "cell_type": "markdown",
   "metadata": {},
   "source": [
    "Produk apa yang paling banyak dan paling sedikit terjual?"
   ]
  },
  {
   "attachments": {},
   "cell_type": "markdown",
   "metadata": {},
   "source": [
    "### Pertanyaan 2: "
   ]
  },
  {
   "cell_type": "markdown",
   "metadata": {},
   "source": [
    "Kapan terakhir pelanggan melakukan transaksi?"
   ]
  },
  {
   "attachments": {},
   "cell_type": "markdown",
   "metadata": {},
   "source": [
    "## Conclusion"
   ]
  },
  {
   "attachments": {},
   "cell_type": "markdown",
   "metadata": {},
   "source": [
    "- berdasarkan grafik produk yang paling sedikit terjual adalah produk dengan category \"seguros_e_servicos\"\n",
    "- Berdasarkan grafik pelanggan melakukan transaksi terakhir pada 2018-10-17 17:30:18 atau sekitar 198 hari yang lalu"
   ]
  },
  {
   "attachments": {},
   "cell_type": "markdown",
   "metadata": {},
   "source": [
    "## Streamlit Dashboard"
   ]
  },
  {
   "cell_type": "markdown",
   "metadata": {},
   "source": [
    "streamlit run dashboard.py"
   ]
  },
  {
   "cell_type": "code",
   "execution_count": null,
   "metadata": {},
   "outputs": [],
   "source": []
  }
 ],
 "metadata": {
  "kernelspec": {
   "display_name": "Python 3 (ipykernel)",
   "language": "python",
   "name": "python3"
  },
  "language_info": {
   "codemirror_mode": {
    "name": "ipython",
    "version": 3
   },
   "file_extension": ".py",
   "mimetype": "text/x-python",
   "name": "python",
   "nbconvert_exporter": "python",
   "pygments_lexer": "ipython3",
   "version": "3.12.0"
  },
  "vscode": {
   "interpreter": {
    "hash": "972b3bf27e332e87b5379f2791f6ef9dfc79c71018c370b0d7423235e20fe4d7"
   }
  }
 },
 "nbformat": 4,
 "nbformat_minor": 4
}
